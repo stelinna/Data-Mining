{
  "cells": [
    {
      "cell_type": "markdown",
      "metadata": {
        "id": "SYDOmU8DIeR1"
      },
      "source": [
        "### РОССИЙСКИЙ УНИВЕРСИТЕТ ДРУЖБЫ НАРОДОВ"
      ]
    },
    {
      "cell_type": "markdown",
      "metadata": {
        "id": "D-TMWslLIeR9"
      },
      "source": [
        "#### Факультет физико-математических и естественных наук  \n",
        "#### Кафедра математического моделирования и искусственного интеллекта"
      ]
    },
    {
      "cell_type": "markdown",
      "metadata": {
        "id": "HdCklQJIIeR-"
      },
      "source": [
        "## ОТЧЕТ ПО ЛАБОРАТОРНОЙ РАБОТЕ № 2"
      ]
    },
    {
      "cell_type": "markdown",
      "metadata": {
        "id": "EAdftrjcIeR_"
      },
      "source": [
        "#### Дисциплина: Интеллектуальный анализ данных"
      ]
    },
    {
      "cell_type": "markdown",
      "metadata": {
        "id": "h3vVUdypIeSA"
      },
      "source": [
        "##### Студент:  Стелина Петрити\n",
        "##### Группа:   НПИбд-02-21"
      ]
    },
    {
      "cell_type": "markdown",
      "metadata": {
        "id": "NsNUmmMLIeSC"
      },
      "source": [
        "## Москва 2024\n",
        "***"
      ]
    },
    {
      "cell_type": "markdown",
      "metadata": {
        "id": "F8NMGHxBIeSC"
      },
      "source": [
        "### Вариант № 9\n",
        "1. Алгоритм: FPGrowth\n",
        "2. День недели (поле order_dow таблицы orders): “4”\n",
        "3. Код департамента (поле department_id таблицы products): “10”\n",
        "4. Запрос: определить час дня, в который было приобретено меньше всего различных товаров\n",
        "5. Показатель оценки ассоциативных правил: рычаг (leverage)\n"
      ]
    },
    {
      "cell_type": "markdown",
      "metadata": {
        "id": "nfvCZ4bw1Yni"
      },
      "source": [
        "### 1.\tПри помощи модуля sqlite3 откройте базу данных Instacart в файле inst"
      ]
    },
    {
      "cell_type": "code",
      "execution_count": null,
      "metadata": {
        "colab": {
          "base_uri": "https://localhost:8080/"
        },
        "id": "YgPu9ZLRZKFd",
        "outputId": "e3c587e7-5fde-4f6e-a6e0-105c0a94362d"
      },
      "outputs": [
        {
          "output_type": "stream",
          "name": "stdout",
          "text": [
            "Mounted at /content/drive\n"
          ]
        }
      ],
      "source": [
        "from google.colab import drive\n",
        "drive.mount('/content/drive')"
      ]
    },
    {
      "cell_type": "code",
      "execution_count": null,
      "metadata": {
        "colab": {
          "base_uri": "https://localhost:8080/"
        },
        "id": "ywJQ-MdB6rEf",
        "outputId": "9ad2a9be-13a1-43f8-f363-ea0b8e2b1b90"
      },
      "outputs": [
        {
          "output_type": "stream",
          "name": "stdout",
          "text": [
            "[('aisles',), ('products',), ('departments',), ('orders',), ('order_products__train',)]\n"
          ]
        }
      ],
      "source": [
        "import sqlite3\n",
        "path = '/content/drive/MyDrive/viti 4/Data mining/Lab 2/instacart.db'\n",
        "\n",
        "# Подключение к базе данных\n",
        "conn = sqlite3.connect(path)\n",
        "cursor = conn.cursor()\n",
        "\n",
        "# Пример запроса для проверки работоспособности соединения\n",
        "cursor.execute(\"SELECT name FROM sqlite_master WHERE type='table';\")\n",
        "tables = cursor.fetchall()\n",
        "# Распечатать таблицы в базе данных\n",
        "print(tables)\n",
        "conn.close()\n"
      ]
    },
    {
      "cell_type": "markdown",
      "metadata": {
        "id": "r_yQGkpda0ZC"
      },
      "source": [
        "### 2. Загрузите таблицы departments и products в датафреймы Pandas. При помощи запроса SELECT извлеките из таблицы order_products__train записи, соответствующие указанным в индивидуальном задании дню недели (поле order_dow таблицы orders) и коду департамента (поле department_id таблицы products) и загрузите в датафрейм Pandas. Определите количество строк в полученном датафрейме, количество транзакций (покупок) и определите количество товаров (столбец product_id) в транзакциях датафрейма."
      ]
    },
    {
      "cell_type": "code",
      "execution_count": null,
      "metadata": {
        "colab": {
          "base_uri": "https://localhost:8080/"
        },
        "id": "JKEb8GsAdxDy",
        "outputId": "27526e79-fc3e-417f-d385-0fe64488ae78"
      },
      "outputs": [
        {
          "output_type": "stream",
          "name": "stdout",
          "text": [
            "  department_id department\n",
            "0             1     frozen\n",
            "1             2      other\n",
            "2             3     bakery\n",
            "3             4    produce\n",
            "4             5    alcohol\n",
            "  product_id                                       product_name aisle_id  \\\n",
            "0          1                         Chocolate Sandwich Cookies       61   \n",
            "1          2                                   All-Seasons Salt      104   \n",
            "2          3               Robust Golden Unsweetened Oolong Tea       94   \n",
            "3          4  Smart Ones Classic Favorites Mini Rigatoni Wit...       38   \n",
            "4          5                          Green Chile Anytime Sauce        5   \n",
            "\n",
            "  department_id  \n",
            "0            19  \n",
            "1            13  \n",
            "2             7  \n",
            "3             1  \n",
            "4            13  \n"
          ]
        }
      ],
      "source": [
        "import pandas as pd\n",
        "\n",
        "# Подключаемся к базе данных\n",
        "conn = sqlite3.connect(path)\n",
        "\n",
        "# Замените 'table_name' на имя вашей таблицы\n",
        "departments_path = pd.read_sql_query(\"SELECT * FROM departments\", conn)\n",
        "products_path = pd.read_sql_query(\"SELECT * FROM products\", conn)\n",
        "\n",
        "# Проверяем первые строки каждого датафрейма\n",
        "print(departments_path.head())\n",
        "print(products_path.head())\n"
      ]
    },
    {
      "cell_type": "code",
      "execution_count": null,
      "metadata": {
        "colab": {
          "base_uri": "https://localhost:8080/"
        },
        "id": "wsBXAlZrsirD",
        "outputId": "10851939-874d-4adb-e2f7-b0a0c480d00e"
      },
      "outputs": [
        {
          "output_type": "stream",
          "name": "stdout",
          "text": [
            "  order_id product_id add_to_cart_order reordered\n",
            "0  2560500       1000                18         1\n",
            "1  1229133      22260                 9         1\n",
            "2    70373       5161                11         0\n",
            "3  2082798       5161                 9         1\n",
            "4  1849852      10915                 1         1\n"
          ]
        }
      ],
      "source": [
        "# День недели (четверг) и код департамента (10)\n",
        "order_dow = 4  # Четверг\n",
        "department_id = 10  # Код департамента\n",
        "\n",
        "# SQL-запрос\n",
        "query = \"\"\"\n",
        "SELECT opt.order_id, opt.product_id, opt.add_to_cart_order, opt.reordered\n",
        "FROM order_products__train opt\n",
        "JOIN orders o ON opt.order_id = o.order_id\n",
        "JOIN products p ON opt.product_id = p.product_id\n",
        "WHERE o.order_dow = ? AND p.department_id = ?\n",
        "\"\"\"\n",
        "\n",
        "# Выполняем запрос и загружаем данные в DataFrame\n",
        "df = pd.read_sql_query(query, conn, params=(order_dow, department_id))\n",
        "\n",
        "# Проверяем первые строки датафрейма\n",
        "print(df.head())\n",
        "\n"
      ]
    },
    {
      "cell_type": "code",
      "execution_count": null,
      "metadata": {
        "colab": {
          "base_uri": "https://localhost:8080/"
        },
        "id": "hHfyXO6yrew1",
        "outputId": "01e4efad-880a-4987-e3ab-c19fbd7ca797"
      },
      "outputs": [
        {
          "output_type": "stream",
          "name": "stdout",
          "text": [
            "Количество строк в датафрейме: 161\n",
            "Количество уникальных транзакций (покупок): 155\n",
            "Количество уникальных товаров: 25\n"
          ]
        }
      ],
      "source": [
        "# Количество строк в датафрейме (всего записей)\n",
        "number_of_rows = df.shape[0]\n",
        "\n",
        "# Количество уникальных транзакций (по количеству уникальных значений order_id)\n",
        "number_of_transactions = df['order_id'].nunique()\n",
        "\n",
        "# Количество уникальных продуктов (по количеству уникальных значений product_id)\n",
        "number_of_products = df['product_id'].nunique()\n",
        "\n",
        "# Выводим результаты\n",
        "print(f\"Количество строк в датафрейме: {number_of_rows}\")\n",
        "print(f\"Количество уникальных транзакций (покупок): {number_of_transactions}\")\n",
        "print(f\"Количество уникальных товаров: {number_of_products}\")\n"
      ]
    },
    {
      "cell_type": "markdown",
      "metadata": {
        "id": "JwHjGMS8rsaW"
      },
      "source": [
        "### 3. Выполните к датафрейму запрос, указанный в индивидуальном задании."
      ]
    },
    {
      "cell_type": "code",
      "source": [
        "conn = sqlite3.connect(path)\n",
        "# SQL-запрос для извлечения данных\n",
        "query = \"\"\"\n",
        "SELECT orders.order_hour_of_day, order_products__train.product_id\n",
        "FROM order_products__train\n",
        "JOIN orders ON order_products__train.order_id = orders.order_id\n",
        "\"\"\"\n",
        "df = pd.read_sql_query(query, conn)\n",
        "conn.close()\n",
        "\n",
        "# Группировка по часу дня и подсчёт уникальных товаров\n",
        "hourly_products = df.groupby('order_hour_of_day')['product_id'].nunique()\n",
        "minimum_hour = hourly_products.idxmin()\n",
        "min_unique_products = hourly_products.min()\n",
        "\n",
        "print(f\"Час дня с наименьшим количеством уникальных товаров: {minimum_hour}\")\n",
        "print(f\"Количество уникальных товаров в этот час: {min_unique_products}\")\n"
      ],
      "metadata": {
        "colab": {
          "base_uri": "https://localhost:8080/"
        },
        "id": "lG0NjJ8efZwx",
        "outputId": "f5d11ef5-2d90-43e8-cf40-05118d3dec31"
      },
      "execution_count": null,
      "outputs": [
        {
          "output_type": "stream",
          "name": "stdout",
          "text": [
            "Час дня с наименьшим количеством уникальных товаров: 03\n",
            "Количество уникальных товаров в этот час: 1735\n"
          ]
        }
      ]
    },
    {
      "cell_type": "markdown",
      "metadata": {
        "id": "h50Kdy_KukDa"
      },
      "source": [
        "###4.\tПостройте транзакционную базу данных из полученного датафрейма, используя в качестве идентификатора транзакции столбец order_id, а в качестве названий товаров - поле product_name из датафрейма для таблицы products, соответствующее столбцу product_id. Найдите в транзакционной базе данных транзакцию с наибольшим количеством товаров и выведите ее на экран."
      ]
    },
    {
      "cell_type": "code",
      "execution_count": null,
      "metadata": {
        "colab": {
          "base_uri": "https://localhost:8080/"
        },
        "id": "0ZLGc5uzyh-Y",
        "outputId": "911fe1fc-0a3a-4466-ffa2-a545f74849ae"
      },
      "outputs": [
        {
          "output_type": "stream",
          "name": "stdout",
          "text": [
            "Транзакция с наибольшим количеством товаров (order_id 2813632):\n",
            "Количество товаров: 84\n",
            "Список товаров: Asparagus, Organic Cucumber, Fresh Cauliflower, Cherubs Heavenly Salad Tomatoes, Extra Virgin Olive Oil, Basil Pesto, Mild Salsa, Garlic, Organic Large Extra Fancy Fuji Apple, Red Vine Tomato, Milano Milk Chocolate Cookies, Freshly Made. Filled with Creamy Ricotta, Aged Parmesan and Romano Cheeses Three Cheese Tortellini, Angel Hair Pasta, Meyer Lemon, Raisin Bran Cereal, Super Soft Taco Flour Tortillas, Less Sodium Soy Sauce, Original Rice Pilaf Mix, Baby Carrots, Asparation/Broccolini/Baby Broccoli, Macaroni Shells & White Cheddar Cheese, Sharp Cheddar Cheese, Unsweetened Vanilla Almond Milk, Parmesan Cheese, Slices Cheddar Cheese, Boneless Skinless Chicken Breast Fillets, Organic Whipped Naturally Buttery Spread, Caramel Cone Ice Cream, Dill Pickle Spears, Lightly Salted Baked Snap Pea Crisps, Rotini Pasta, Sensitive Toilet Paper, Dressing, Jersey Sweet Onion, Calorie Free, All Natural Four Cheese Ravioli, Pulp Free Orange Juice, Cinnamon Roll Dough With Icing, Sweet Tea W/Real Sugar Iced Tea, Danimals Strawberry Explosion Flavored Smoothie, Lime Slim Can, Coffee Ice Cream, Sweet Corn On The Cob, Organic Green Butter Lettuce, Original Restaurant Style Tortilla Chips, Non Fat Black Cherry on the Bottom Greek Yogurt, Zero Calorie Sweetener, Grade A Large Brown Eggs, Slim Can Pink Grapefruit Natural Mineral Water, Goldfish Cheddar Baked Snack Crackers Multi Packs, Honey Maid Graham Crackers, All Natural Apricot Sparkling Water, Organic Fat-Free Milk, Chocolate Peanut Butter Ice Cream, Goat Cheese & Basil Ravioli, Mint Chip Ice Cream, Original Ice Cream Bar, Rocky Road Ice Cream, French Baguette Bread, Unsweetened Ice Tea, Brussel Sprouts, Elbow Macaroni Pasta, Farfalle Pasta, Dijon Mustard, One Ply Choose A Size Big Roll Paper Towel Rolls, Fresh European Style Baby Spinach, Shelled Soybeans Edamame, French Bread Pizza Pepperoni, Sourdough Deli Bread, Natural Choice Original Uncured Bacon, Irish Breakfast, Aged White Cheddar Puffs Cheese Snacks, 100% Pure Apple Juice, Hampshire 100% Natural Sour Cream, Family Recipe Italian Dressing, Olive Oil Rosemary and Garlic Oven Fries, Direct Trade El Diablo Dark Roast Whole Bean Coffee, Panko Italian Style Crispy Bread Crumbs, Extra Noodle Soup Mix, Pita Bites, Original Sea Salt, Sourdough Dinner Rolls, Pink Vodka Sauce\n"
          ]
        }
      ],
      "source": [
        "# Подключаемся к базе данных\n",
        "conn = sqlite3.connect(path)\n",
        "\n",
        "# Загружаем таблицы в датафреймы\n",
        "orders_df = pd.read_sql_query(\"SELECT * FROM orders\", conn)\n",
        "products_df = pd.read_sql_query(\"SELECT * FROM products\", conn)\n",
        "order_products_train_df = pd.read_sql_query(\"SELECT * FROM order_products__train\", conn)\n",
        "\n",
        "\n",
        "# Объединяем order_products_train_df и products_df по product_id, чтобы получить product_name\n",
        "mix_df = pd.merge(order_products_train_df, products_df[['product_id', 'product_name']], on='product_id')\n",
        "\n",
        "# Объединяем с orders_df по order_id, чтобы получить order_id и product_name\n",
        "trans_df = pd.merge(mix_df, orders_df[['order_id', 'order_dow']], on='order_id')\n",
        "\n",
        "# Создаем транзакционную базу данных\n",
        "# Группируем по order_id и собираем product_name в список\n",
        "trans_data = trans_df.groupby('order_id')['product_name'].apply(lambda x: ', '.join(x)).reset_index()\n",
        "\n",
        "# Находим транзакцию с наибольшим количеством товаров\n",
        "trans_data['num_products'] = trans_data['product_name'].apply(lambda x: len(x.split(', ')))\n",
        "max_trans = trans_data.loc[trans_data['num_products'].idxmax()]\n",
        "\n",
        "# Выводим результат\n",
        "print(f\"Транзакция с наибольшим количеством товаров (order_id {max_trans['order_id']}):\")\n",
        "print(f\"Количество товаров: {max_trans['num_products']}\")\n",
        "print(f\"Список товаров: {max_trans['product_name']}\")\n"
      ]
    },
    {
      "cell_type": "markdown",
      "metadata": {
        "id": "4Nocf20B0KFR"
      },
      "source": [
        "###5.\tПостройте по транзакционной базе данных бинарную базу данных в формате датафрейма пакета mlxtend. По бинарной базе данных определите и выведите на экран три наиболее популярных товара и определите количество покупок (транзакций) этих товаров."
      ]
    },
    {
      "cell_type": "code",
      "execution_count": null,
      "metadata": {
        "colab": {
          "base_uri": "https://localhost:8080/"
        },
        "id": "18G0ipXI6AUr",
        "outputId": "9a285605-18ee-4a2b-d738-2974eb954651"
      },
      "outputs": [
        {
          "output_type": "stream",
          "name": "stdout",
          "text": [
            "Три наиболее популярных товара и количество покупок:\n",
            "Banana                    18805\n",
            "Bag of Organic Bananas    15480\n",
            "Organic Strawberries      10894\n",
            "dtype: int64\n"
          ]
        }
      ],
      "source": [
        "import pandas as pd\n",
        "from mlxtend.preprocessing import TransactionEncoder\n",
        "from mlxtend.frequent_patterns import apriori\n",
        "# Постройка транзакционной базы данных (замените `transaction_data` на ваш датафрейм)\n",
        "transaction_list = trans_data['product_name'].apply(lambda x: x.split(', ')).tolist()\n",
        "\n",
        "# Создание бинарной базы данных\n",
        "trans = TransactionEncoder()\n",
        "trans_list = trans.fit(transaction_list).transform(transaction_list)\n",
        "df_binary = pd.DataFrame(trans_list, columns=trans.columns_)\n",
        "\n",
        "# Определение количества покупок (транзакций) для каждого товара\n",
        "# Мы суммируем количество 1-ц для каждого товара, чтобы найти количество транзакций, в которых он был куплен\n",
        "counts = df_binary.sum().sort_values(ascending=False)\n",
        "\n",
        "# Определение трех наиболее популярных товаров\n",
        "items = counts.head(3)\n",
        "\n",
        "# Вывод результатов\n",
        "print(\"Три наиболее популярных товара и количество покупок:\")\n",
        "print(items)\n"
      ]
    },
    {
      "cell_type": "markdown",
      "metadata": {
        "id": "TWIPxBry8nmv"
      },
      "source": [
        "###6.\tПри помощи указанного в индивидуальном задании метода построения популярных наборов предметов постройте и выведите на экран популярный набор предметов с (абсолютной) минимальной поддержкой не менее 3, имеющий максимальную длину. При отсутствии такого набора уменьшите поддержку до 2. В случае нехватки вычислительных ресурсов (слишком долгой работы программы) при построении популярного набора предметов сокращайте число записей в наборе данных (например, делая выборку половины записей набора)."
      ]
    },
    {
      "cell_type": "code",
      "execution_count": null,
      "metadata": {
        "id": "ELxABncV9kNH",
        "colab": {
          "base_uri": "https://localhost:8080/"
        },
        "outputId": "f9fcf9a1-9a2f-4816-86d2-05607bd70e0f"
      },
      "outputs": [
        {
          "output_type": "stream",
          "name": "stderr",
          "text": [
            "/usr/local/lib/python3.10/dist-packages/ipykernel/ipkernel.py:283: DeprecationWarning: `should_run_async` will not call `transform_cell` automatically in the future. Please pass the result to `transformed_cell` argument and any exception that happen during thetransform in `preprocessing_exc_tuple` in IPython 7.17 and above.\n",
            "  and should_run_async(code)\n"
          ]
        },
        {
          "output_type": "stream",
          "name": "stdout",
          "text": [
            "Популярный набор предметов с максимальной длиной и поддержкой:\n",
            "support                                              0.000046\n",
            "itemsets    (Ginger Cold Pressed Juice Beverage, Lemon Col...\n",
            "length                                                     13\n",
            "Name: 1171086, dtype: object\n"
          ]
        }
      ],
      "source": [
        "from mlxtend.frequent_patterns import fpgrowth\n",
        "df_binary_sample = df_binary.sample(frac=0.5, random_state=1)\n",
        "# Функция для нахождения частых наборов предметов с минимальной поддержкой\n",
        "def frequent_item_sets(df, min_support):\n",
        "    return fpgrowth(df, min_support=min_support, use_colnames=True)\n",
        "# Попытка найти частые наборы с поддержкой не менее 3\n",
        "try:\n",
        "    frequent_items= frequent_item_sets(df_binary_sample, min_support=3/len(df_binary_sample))\n",
        "    if frequent_items.empty:\n",
        "        raise ValueError(\"Нет частых наборов с поддержкой не менее 3.\")\n",
        "except ValueError:\n",
        "    # Попробовать с поддержкой не менее 2\n",
        "    frequent_items = frequent_item_sets(df_binary_sample, min_support=2/len(df_binary_sample))\n",
        "\n",
        "# Находим набор с максимальной длиной\n",
        "if not frequent_items.empty:\n",
        "    frequent_items['length'] = frequent_items['itemsets'].apply(lambda x: len(x))\n",
        "    max_length_item_set = frequent_items.loc[frequent_items['length'].idxmax()]\n",
        "    print(\"Популярный набор предметов с максимальной длиной и поддержкой:\")\n",
        "    print(max_length_item_set)\n",
        "else:\n",
        "    print(\"Не удалось найти частые наборы предметов с заданной поддержкой.\")"
      ]
    },
    {
      "cell_type": "markdown",
      "metadata": {
        "id": "QNYMwY4uBLlo"
      },
      "source": [
        "###7.\tИспользуя пакет mlxtend или реализацию на Python, постройте набор ассоциативных правил для полученного популярного наборов предметов с уровнем достоверности (confidence) не ниже."
      ]
    },
    {
      "cell_type": "code",
      "execution_count": null,
      "metadata": {
        "id": "XSP4ef0FB7qo",
        "colab": {
          "base_uri": "https://localhost:8080/"
        },
        "outputId": "3d01964b-8bc9-4a16-c7ef-8296a9c5ac31"
      },
      "outputs": [
        {
          "output_type": "stream",
          "name": "stderr",
          "text": [
            "/usr/local/lib/python3.10/dist-packages/ipykernel/ipkernel.py:283: DeprecationWarning: `should_run_async` will not call `transform_cell` automatically in the future. Please pass the result to `transformed_cell` argument and any exception that happen during thetransform in `preprocessing_exc_tuple` in IPython 7.17 and above.\n",
            "  and should_run_async(code)\n"
          ]
        },
        {
          "output_type": "stream",
          "name": "stdout",
          "text": [
            "Ассоциативные правила с уровнем достоверности не ниже 0.10:\n",
            "                                  antecedents  \\\n",
            "0                          (Organic Zucchini)   \n",
            "1                          (Organic Zucchini)   \n",
            "2                          (Organic Zucchini)   \n",
            "3                          (Organic Zucchini)   \n",
            "4                          (Organic Zucchini)   \n",
            "...                                       ...   \n",
            "6911565            (Pepperoni, Onions) Pizza)   \n",
            "6911566        (Green Peppers, Onions) Pizza)   \n",
            "6911567          (Onions) Pizza, Red Peppers)   \n",
            "6911568  (Traditional Crust Supreme (Sausage)   \n",
            "6911569                       (Onions) Pizza)   \n",
            "\n",
            "                                               consequents  \\\n",
            "0                                 (Bag of Organic Bananas)   \n",
            "1                                   (Organic Baby Spinach)   \n",
            "2                                   (Organic Strawberries)   \n",
            "3                                                 (Banana)   \n",
            "4                                            (Large Lemon)   \n",
            "...                                                    ...   \n",
            "6911565  (Traditional Crust Supreme (Sausage, Green Pep...   \n",
            "6911566  (Traditional Crust Supreme (Sausage, Pepperoni...   \n",
            "6911567  (Traditional Crust Supreme (Sausage, Pepperoni...   \n",
            "6911568  (Pepperoni, Onions) Pizza, Red Peppers, Green ...   \n",
            "6911569  (Traditional Crust Supreme (Sausage, Pepperoni...   \n",
            "\n",
            "         antecedent support  consequent support   support  confidence  \\\n",
            "0                  0.034983            0.117935  0.008048    0.230065   \n",
            "1                  0.034983            0.074858  0.007393    0.211329   \n",
            "2                  0.034983            0.083608  0.005594    0.159913   \n",
            "3                  0.034983            0.142872  0.007469    0.213508   \n",
            "4                  0.034983            0.062557  0.005640    0.161220   \n",
            "...                     ...                 ...       ...         ...   \n",
            "6911565            0.000091            0.000046  0.000046    0.500000   \n",
            "6911566            0.000046            0.000046  0.000046    1.000000   \n",
            "6911567            0.000046            0.000046  0.000046    1.000000   \n",
            "6911568            0.000046            0.000046  0.000046    1.000000   \n",
            "6911569            0.000091            0.000046  0.000046    0.500000   \n",
            "\n",
            "                 lift  leverage  conviction  zhangs_metric  \n",
            "0            1.950783  0.003923    1.145636       0.505053  \n",
            "1            2.823056  0.004774    1.173039       0.669184  \n",
            "2            1.912657  0.002669    1.090830       0.494465  \n",
            "3            1.494394  0.002471    1.089810       0.342825  \n",
            "4            2.577164  0.003451    1.117627       0.634161  \n",
            "...               ...       ...         ...            ...  \n",
            "6911565  10934.000000  0.000046    1.999909       1.000000  \n",
            "6911566  21868.000000  0.000046         inf       1.000000  \n",
            "6911567  21868.000000  0.000046         inf       1.000000  \n",
            "6911568  21868.000000  0.000046         inf       1.000000  \n",
            "6911569  10934.000000  0.000046    1.999909       1.000000  \n",
            "\n",
            "[6911570 rows x 10 columns]\n"
          ]
        }
      ],
      "source": [
        "from mlxtend.frequent_patterns import fpgrowth, association_rules\n",
        "# Постройка частых наборов предметов\n",
        "frequent_items = fpgrowth(df_binary_sample, min_support=3/len(df_binary_sample), use_colnames=True)\n",
        "\n",
        "# Генерация ассоциативных правил\n",
        "min_confidence = 0.1  # Уровень достоверности\n",
        "rules = association_rules(frequent_items, metric=\"confidence\", min_threshold=min_confidence)\n",
        "\n",
        "# Выводим результаты\n",
        "print(\"Ассоциативные правила с уровнем достоверности не ниже {:.2f}:\".format(min_confidence))\n",
        "print(rules)"
      ]
    },
    {
      "cell_type": "markdown",
      "metadata": {
        "id": "ex1s_DrNDUzk"
      },
      "source": [
        "###8.\tДля построенного набора ассоциативных правил вычислите показатель (меру) оценки ассоциативных правил, указанную в индивидуальном задании, и выведите на экран ассоциативное правило, имеющее наилучшее значение этого показателя оценки."
      ]
    },
    {
      "cell_type": "code",
      "source": [
        "# Оптимизация поиска поддержки\n",
        "support_dict = frequent_items.set_index('itemsets')['support'].to_dict()\n",
        "\n",
        "# Рассчитайте рычаг для каждого правила\n",
        "def cal_leverage(row, support_dict):\n",
        "    antecedent_support = support_dict.get(frozenset(row['antecedents']), 0)\n",
        "    consequent_support = support_dict.get(frozenset(row['consequents']), 0)\n",
        "    return row['support'] - (antecedent_support * consequent_support)\n",
        "\n",
        "# Применяем функцию для расчета рычага\n",
        "rules['leverage'] = rules.apply(lambda row: cal_leverage(row, support_dict), axis=1)\n",
        "\n",
        "# Найдите правило с наибольшим рычагом\n",
        "if not rules.empty:\n",
        "    best_rule = rules.loc[rules['leverage'].idxmax()]\n",
        "    print(\"Ассоциативное правило с наибольшим рычагом:\")\n",
        "    print(best_rule)\n",
        "else:\n",
        "    print(\"Правила ассоциации не найдены.\")"
      ],
      "metadata": {
        "colab": {
          "base_uri": "https://localhost:8080/"
        },
        "id": "n7N7zlIhn5rb",
        "outputId": "fcc29f86-7120-4864-eb60-d02f422953d8"
      },
      "execution_count": null,
      "outputs": [
        {
          "output_type": "stream",
          "name": "stderr",
          "text": [
            "/usr/local/lib/python3.10/dist-packages/ipykernel/ipkernel.py:283: DeprecationWarning: `should_run_async` will not call `transform_cell` automatically in the future. Please pass the result to `transformed_cell` argument and any exception that happen during thetransform in `preprocessing_exc_tuple` in IPython 7.17 and above.\n",
            "  and should_run_async(code)\n"
          ]
        },
        {
          "output_type": "stream",
          "name": "stdout",
          "text": [
            "Ассоциативное правило с наибольшим рычагом:\n",
            "antecedents           (Bag of Organic Bananas)\n",
            "consequents             (Organic Strawberries)\n",
            "antecedent support                    0.117935\n",
            "consequent support                    0.083608\n",
            "support                               0.023886\n",
            "confidence                            0.202533\n",
            "lift                                  2.422424\n",
            "leverage                              0.014025\n",
            "conviction                            1.149129\n",
            "zhangs_metric                         0.665699\n",
            "Name: 17951, dtype: object\n"
          ]
        }
      ]
    }
  ],
  "metadata": {
    "colab": {
      "provenance": [],
      "gpuType": "V28"
    },
    "kernelspec": {
      "display_name": "Python 3",
      "name": "python3"
    },
    "language_info": {
      "codemirror_mode": {
        "name": "ipython",
        "version": 3
      },
      "file_extension": ".py",
      "mimetype": "text/x-python",
      "name": "python",
      "nbconvert_exporter": "python",
      "pygments_lexer": "ipython3",
      "version": "3.11.8"
    },
    "accelerator": "TPU"
  },
  "nbformat": 4,
  "nbformat_minor": 0
}